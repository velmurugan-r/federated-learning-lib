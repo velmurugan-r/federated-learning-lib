{
 "cells": [
  {
   "cell_type": "markdown",
   "metadata": {},
   "source": [
    "# MNIST classifier in IBM FL"
   ]
  },
  {
   "cell_type": "markdown",
   "metadata": {
    "heading_collapsed": true
   },
   "source": [
    "## Outline:\n",
    "- [Federated Learning(FL)](#intro)\n",
    "- [Digit Recognition](#mnist)\n",
    "- [Parties](#Parties)\n",
    "    - [Party Configuration](#Party-Configuration)\n",
    "    - [Party Setup](#Party-Setup)\n",
    "- [Register All Parties Before Starting Training](#Register-All-Parties-Before-Starting-Training)\n",
    "- [Visualize Results](#Visualize-Results)\n",
    "- [Shut Down](#Shut-Down)"
   ]
  },
  {
   "cell_type": "markdown",
   "metadata": {},
   "source": [
    "## Federated Learning (FL) <a name=\"intro\"></a>\n",
    "\n",
    "**Federated Learning (FL)** is a distributed machine learning process in which each participant node (or party) retains their data locally and interacts with  other participants via a learning protocol. \n",
    "One main driver behind FL is the need to not share data with others  due to privacy and confidentially concerns.\n",
    "Another driver is to improve the speed of training a machine learning model by leveraging other participants' training processes.\n",
    "\n",
    "Setting up such a federated learning system requires setting up a communication infrastructure, converting machine learning algorithms to federated settings and in some cases knowing about the intricacies of security and privacy enabling techniques such as differential privacy and multi-party computation. \n",
    "\n",
    "In this Notebook we use [IBM FL](https://github.com/IBM/federated-learning-lib) to have multiple parties train a classifier to recognise handwritten digits in the [MNIST dataset](http://yann.lecun.com/exdb/mnist/). \n",
    "\n",
    "For a more technical dive into IBM FL, refer the whitepaper [here](https://arxiv.org/pdf/2007.10987.pdf)."
   ]
  },
  {
   "cell_type": "markdown",
   "metadata": {},
   "source": [
    "In the following cells, we set up each of the components of a Federated Learning network (See Figure below) wherein all involved parties aid in training their respective local cartpoles to arrive at the upright pendulum state. In this notebook we default to 5 parties, but depending on your resources you may use fewer parties.\n",
    "\n",
    "<img src=\"images/FL_Network.png\" width=\"720\"/>\n",
    "<figcaption><center>Modified from Image Source: <a href=\"https://arxiv.org/pdf/2007.10987.pdf\">IBM Federated Learning: An Enterprise FrameworkWhite Paper V0.1</a></center></figcaption>"
   ]
  },
  {
   "cell_type": "markdown",
   "metadata": {},
   "source": [
    "## Digit Recognition <a name=\"mnist\"></a>\n",
    "\n"
   ]
  },
  {
   "cell_type": "markdown",
   "metadata": {},
   "source": [
    "<img src=\"images/MnistExamples.png\" width=\"512\"/>\n",
    "<figcaption><center>Image Source: Josef Steppan / CC BY-SA <a href=\"https://creativecommons.org/licenses/by-sa/4.0\">Wikimedia Commons</a></center></figcaption>"
   ]
  },
  {
   "cell_type": "markdown",
   "metadata": {},
   "source": [
    "The problem at hand is to recognize digits from these tens of thousands of handwritten images. "
   ]
  },
  {
   "cell_type": "markdown",
   "metadata": {},
   "source": [
    "### Getting things ready\n",
    "\n",
    "We begin by setting the number of parties that will participate in the federated learning run and splitting up the data among them."
   ]
  },
  {
   "cell_type": "code",
   "execution_count": null,
   "metadata": {},
   "outputs": [],
   "source": [
    "import sys\n",
    "party_id = 0\n",
    "\n",
    "sys.path.append('.')\n",
    "import os\n",
    "os.chdir(\".\")\n",
    "\n",
    "dataset = 'mnist'\n",
    "import socket    \n",
    "hostname = socket.gethostname()    \n",
    "IPAddr = socket.gethostbyname(hostname)"
   ]
  },
  {
   "cell_type": "markdown",
   "metadata": {},
   "source": [
    "## Parties\n",
    "\n",
    "Each party holds its own dataset that is kept to itself and used to answer queries received from the aggregator. Because each party may have stored data in different formats, FL offers an abstraction called Data Handler. This module allows for custom implementations to retrieve the data from each of the participating parties. A local training handler sits at each party to control the local training happening at the party side. "
   ]
  },
  {
   "cell_type": "markdown",
   "metadata": {},
   "source": [
    "### Party Configuration\n",
    "\n",
    "**Note**: in a typical FL setting, the parties may have very different configurations from each other. However, in this simplified example, the config does not differ much across parties. So, we first setup the configuration common to both parties, in the next cell. We discuss the parameters that are specific to each, in subsequent cells."
   ]
  },
  {
   "cell_type": "markdown",
   "metadata": {},
   "source": [
    "<img src=\"images/arch_party.png\" width=\"680\"/>\n",
    "<figcaption><center>Image Source: <a href=\"https://arxiv.org/pdf/2007.10987.pdf\">IBM Federated Learning: An Enterprise FrameworkWhite Paper V0.1</a></center></figcaption>"
   ]
  },
  {
   "cell_type": "markdown",
   "metadata": {},
   "source": [
    "### Party Setup\n",
    "In the following cell, we setup configurations for parties, including network-level details, hyperparameters as well as the model specifications. Please note that if you are running this notebook in distributed environment on separate nodes then you need to split the data locally and obtain the model h5 generated by the Aggregator."
   ]
  },
  {
   "cell_type": "markdown",
   "metadata": {},
   "source": [
    "#### Building Blocks in Party Configuration:\n",
    "\n",
    "Now we configure party specific configurations in the `get_party_config` method, which specifies model related configurations as well as other parameters necessary for the federated learning setup. The model related configurations are identical to those generated (yaml files) during the terminal run.\n",
    "\n",
    "Once these are done, we invoke them for each party, in the subsequent cell.\n",
    "\n",
    "- `local_training_handler`: handles the train and eval commands, also initializes data, environment and models\n",
    "\n",
    "- `protocol_handler`: party protocol handler communicates with the Aggregator bridging between Aggregator and local training handler\n",
    "\n",
    "- `aggregator`: IP and port at which the Aggregator is running, so the party may connect to it\n",
    "\n",
    "- `data`: information needed to initiate a data handler class; includes a given data path, a data handler class name, and a data handler file location\n",
    "\n",
    "- `model`: details about the model, including name, the model class file location, i.e., path, and the given model specification path, i.e., spec. In this example, we use the Keras FL Model class, as indicated under the spec\n",
    "\n",
    "**Note**: in a typical FL setting, the parties may have very different configurations from each other. However, in this simplified example, the config does not differ much across parties. Also, as of this release all parties registered with the aggregator participate in the training. Dynamically letting registered parties to skip training in certain rounds will be supported in subsequent versions."
   ]
  },
  {
   "cell_type": "markdown",
   "metadata": {},
   "source": [
    "### Step __: Run the cells in this section to choose your training data samples"
   ]
  },
  {
   "cell_type": "code",
   "execution_count": null,
   "metadata": {},
   "outputs": [],
   "source": [
    "from ipywidgets import Layout, Box, VBox, HTML, HBox, GridBox\n",
    "import ipywidgets as widgets\n",
    "import subprocess\n",
    "## Run this cell to choose between selecting digits or generate data randomly from dataset\n",
    "choice_header = HTML(value='<{size}>How would you like to generate the training data?'.format(size='h4'),\n",
    "               layout=Layout(width='auto', grid_area='header'))\n",
    "choice_radio = widgets.RadioButtons(\n",
    "    options=['Select Digits', 'Randomly from Dataset'],\n",
    "    value= 'Randomly from Dataset', # Defaults to this\n",
    "#    layout={'width': 'max-content'}, # If the items' names are long\n",
    "    disabled=False,\n",
    "    grid_area='selection'\n",
    ")\n",
    "\n",
    "choice_made = choice_radio.value\n",
    "\n",
    "def choice_radio_eventhandler(change):\n",
    "#     print(change)\n",
    "    global choice_made\n",
    "    choice_made = change.new\n",
    "\n",
    "choice_radio.observe(choice_radio_eventhandler, names='value')\n",
    "\n",
    "GridBox(children=[choice_header, choice_radio],\n",
    "       layout = Layout(\n",
    "           width='auto',\n",
    "           grid_template_rows='auto',\n",
    "           grid_template_columns='98%',\n",
    "           grid_template_areas='''\n",
    "           \"header\"\n",
    "           \"selection\"\n",
    "            ''')\n",
    "       )"
   ]
  },
  {
   "cell_type": "code",
   "execution_count": null,
   "metadata": {
    "code_folding": []
   },
   "outputs": [],
   "source": [
    "## Run this cell to choose digits or generate data depending on the choice you made\n",
    "############## UI elements for selectnig digits ##############\n",
    "import numpy as np\n",
    "select_header = HTML(value='<{size}>Select label(s) you\\'d like in your dataset'.format(size='h4'),\n",
    "               layout=Layout(width='auto', grid_area='header'))\n",
    "select_label_checkbox = widgets.Box([\n",
    "    widgets.Checkbox(\n",
    "        value=False,\n",
    "        description='Digit 0',\n",
    "        disabled=False,\n",
    "        indent=False\n",
    "    ),\n",
    "    widgets.Checkbox(\n",
    "        value=False,\n",
    "        description='Digit 1',\n",
    "        disabled=False,\n",
    "        indent=False\n",
    "    ),\n",
    "    widgets.Checkbox(\n",
    "        value=False,\n",
    "        description='Digit 2',\n",
    "        disabled=False,\n",
    "        indent=False\n",
    "    ),\n",
    "    widgets.Checkbox(\n",
    "        value=False,\n",
    "        description='Digit 3',\n",
    "        disabled=False,\n",
    "        indent=False\n",
    "    ),\n",
    "    widgets.Checkbox(\n",
    "        value=False,\n",
    "        description='Digit 4',\n",
    "        disabled=False,\n",
    "        indent=False\n",
    "    ),\n",
    "    widgets.Checkbox(\n",
    "        value=False,\n",
    "        description='Digit 5',\n",
    "        disabled=False,\n",
    "        indent=False\n",
    "    ),\n",
    "    widgets.Checkbox(\n",
    "        value=False,\n",
    "        description='Digit 6',\n",
    "        disabled=False,\n",
    "        indent=False\n",
    "    ),\n",
    "    widgets.Checkbox(\n",
    "        value=False,\n",
    "        description='Digit 7',\n",
    "        disabled=False,\n",
    "        indent=False\n",
    "    ),\n",
    "    widgets.Checkbox(\n",
    "        value=False,\n",
    "        description='Digit 8',\n",
    "        disabled=False,\n",
    "        indent=False\n",
    "    ),\n",
    "    widgets.Checkbox(\n",
    "        value=False,\n",
    "        description='Digit 9',\n",
    "        disabled=False,\n",
    "        indent=False\n",
    "    )\n",
    "])\n",
    "selected = []\n",
    "def checkbox_eventhandler(change):\n",
    "#     print(change)\n",
    "    if change.new:\n",
    "        selected.append(int(change.owner.description.split(' ')[1].strip()))\n",
    "    \n",
    "[select_label_checkbox.children[i].observe(checkbox_eventhandler, names='value') for i in range(len(select_label_checkbox.children))]\n",
    "\n",
    "def update_checkboxes(*args):\n",
    "    for i in np.random.permutation(10)[:3]:\n",
    "        select_label_checkbox.children[i].value = True\n",
    "    \n",
    "update_checkboxes()\n",
    "####################################################\n",
    "## for the 'randomly generating data from MNIST'\n",
    "info_header = HTML(value='<{size}><center>Head to the _train step_ as you now have the data to train!'.format(size='h4'),\n",
    "               layout=Layout(width='auto', grid_area='header'))\n",
    "\n",
    "# print(choice_made)\n",
    "\n",
    "if choice_made == 'Randomly from Dataset':    \n",
    "    ## invoke generate_data.py with the usual parameters\n",
    "    cmd_to_run = 'python generate_data.py -n 1 --dataset mnist -pp 200'\n",
    "#     print('Executing {}'.format(cmd_to_run))\n",
    "    process = subprocess.run(cmd_to_run, shell=True,\n",
    "                         stdout=subprocess.PIPE, \n",
    "                         stderr=subprocess.PIPE,\n",
    "                         universal_newlines=True)\n",
    "    print(process.stdout)\n",
    "    present = GridBox(children=[info_header],\n",
    "              layout = Layout(\n",
    "              width='auto',\n",
    "              grid_template_rows='auto',\n",
    "              grid_template_columns='98%',\n",
    "              grid_template_areas='''\n",
    "              \"header\"\n",
    "              ''')\n",
    "         )\n",
    "    display(present)\n",
    "\n",
    "elif choice_made == 'Select Digits':\n",
    "    ## invoke the checkbox widgets here:\n",
    "    present = GridBox(children=[select_header, select_label_checkbox],\n",
    "            layout = Layout(\n",
    "                width='auto',\n",
    "               grid_template_rows='auto',\n",
    "               grid_template_columns='98%',\n",
    "               grid_template_areas='''\n",
    "               \"header\"\n",
    "               \"selection\"\n",
    "                ''')\n",
    "           )\n",
    "    display(present)"
   ]
  },
  {
   "cell_type": "code",
   "execution_count": null,
   "metadata": {
    "code_folding": []
   },
   "outputs": [],
   "source": [
    "## Run this cell to generate data if you chose 'Select Digits' earlier\n",
    "if choice_made == 'Select Digits':    \n",
    "    # print(selected)\n",
    "    arg_str = ''\n",
    "    for each in selected:\n",
    "        arg_str = arg_str + str(each) + ' '\n",
    "\n",
    "    arg_str = arg_str.strip()\n",
    "    # print(arg_str)\n",
    "\n",
    "    cmd_to_run = 'python generate_data.py -n 1 --dataset mnist -pp 200 --labels ' + arg_str\n",
    "#     print('Executing {}'.format(cmd_to_run))\n",
    "    process = subprocess.run(cmd_to_run, shell=True,\n",
    "                             stdout=subprocess.PIPE, \n",
    "                             stderr=subprocess.PIPE,\n",
    "                             universal_newlines=True)\n",
    "    print(process.stdout)"
   ]
  },
  {
   "cell_type": "code",
   "execution_count": null,
   "metadata": {
    "scrolled": false
   },
   "outputs": [],
   "source": [
    "def get_party_config(party_id, IPAddr):\n",
    "    party_config = {\n",
    "        'aggregator':\n",
    "            {\n",
    "                'ip': '172.30.110.3',\n",
    "                'port': 5000\n",
    "            },\n",
    "        'connection': {\n",
    "            'info': {\n",
    "                'ip': IPAddr,\n",
    "                'port': 8085 + party_id,\n",
    "                'id': 'party' + str(party_id),\n",
    "                'tls_config': {\n",
    "                    'enable': False\n",
    "                }\n",
    "            },\n",
    "            'name': 'FlaskConnection',\n",
    "            'path': 'ibmfl.connection.flask_connection',\n",
    "            'sync': False\n",
    "        },\n",
    "        'data': {\n",
    "            'info': {\n",
    "                'npz_file': 'examples/data/mnist/random/data_party'+ str(party_id) +'.npz'\n",
    "            },\n",
    "            'name': 'MnistKerasDataHandler',\n",
    "            'path': 'ibmfl.util.data_handlers.mnist_keras_data_handler'\n",
    "        },\n",
    "        'local_training': {\n",
    "            'name': 'LocalTrainingHandler',\n",
    "            'path': 'ibmfl.party.training.local_training_handler'\n",
    "        },\n",
    "        'model': {\n",
    "            'name': 'KerasFLModel',\n",
    "            'path': 'ibmfl.model.keras_fl_model',\n",
    "            'spec': {\n",
    "                'model_definition': 'examples/configs/keras_classifier/compiled_keras.h5',\n",
    "                'model_name': 'keras-cnn'\n",
    "            }\n",
    "        },\n",
    "        'protocol_handler': {\n",
    "            'name': 'PartyProtocolHandler',\n",
    "            'path': 'ibmfl.party.party_protocol_handler'\n",
    "        }\n",
    "    }\n",
    "    return party_config\n"
   ]
  },
  {
   "cell_type": "markdown",
   "metadata": {},
   "source": [
    "### Running the Party\n",
    "\n",
    "Now, we invoke the `get_party_config` function to setup party and `start()` it.\n",
    "\n",
    "Finally, we register the party with the Aggregator."
   ]
  },
  {
   "cell_type": "code",
   "execution_count": null,
   "metadata": {},
   "outputs": [],
   "source": [
    "from ibmfl.party.party import Party\n",
    "import tensorflow as tf\n",
    "\n",
    "party_config = get_party_config(party_id, IPAddr)\n",
    "party = Party(config_dict=party_config)\n",
    "party.start()\n",
    "party.register_party()"
   ]
  },
  {
   "cell_type": "markdown",
   "metadata": {},
   "source": [
    "## Register All Parties Before Starting Training\n",
    "\n",
    "Now we have started and registered this Party. Next, we will start and register rest of the parties. Once all the Parties have registered we will go back to the Aggregator's notebook to start training."
   ]
  },
  {
   "cell_type": "markdown",
   "metadata": {},
   "source": [
    "## Visualize Results\n",
    "\n",
    "Here we plot the summary graphs from each party's training."
   ]
  },
  {
   "cell_type": "code",
   "execution_count": null,
   "metadata": {},
   "outputs": [],
   "source": [
    "import keras\n",
    "from keras.datasets import mnist\n",
    "from keras.preprocessing.image import ImageDataGenerator\n",
    "_, (X_test, Y_test) = mnist.load_data()"
   ]
  },
  {
   "cell_type": "code",
   "execution_count": null,
   "metadata": {},
   "outputs": [],
   "source": [
    "import matplotlib\n",
    "import matplotlib.pyplot as plt\n",
    "import matplotlib.gridspec as gridspec\n",
    "import numpy as np\n",
    "import keras\n",
    "from keras.datasets import mnist\n",
    "from keras.preprocessing.image import ImageDataGenerator\n",
    "from sklearn.metrics import accuracy_score\n",
    "sample_count = 100\n",
    "num_parties = 1\n",
    "for i in range(10):\n",
    "   test_filter = np.where(Y_test == i)\n",
    "   X_test1, Y_test1 = X_test[test_filter], Y_test[test_filter]\n",
    "   #labels, counts = np.unique(Y_test1, return_counts=True)\n",
    "   np.random.seed(123)\n",
    "   rand_v = np.random.randint(0, X_test1.shape[0],sample_count)\n",
    "   test_digits = X_test1[rand_v]\n",
    "   test_labels = Y_test1[rand_v]\n",
    "   labels, counts = np.unique(test_labels, return_counts=True)\n",
    "   #print('Original lable', labels)\n",
    "   acc_list = np.array([])\n",
    "   y_true = np.full(sample_count, i)\n",
    "\n",
    "       \n",
    "   y_pred = np.array([])\n",
    "   for i_samples in range(sample_count):\n",
    "      pred = party.fl_model.predict(test_digits[i_samples].reshape(1, 28, 28, 1))\n",
    "      y_pred = np.append(y_pred, pred.argmax())\n",
    "   acc = accuracy_score(y_true, y_pred) * 100\n",
    "   #print('y prediction',y_pred)\n",
    "   #print('y true',y_true)\n",
    "   #print('accuracy',acc)\n",
    "   acc_list = np.append(acc_list,acc)\n",
    "\n",
    "   ind = np.arange(num_parties) \n",
    "   fig2 = plt.figure(constrained_layout=True,figsize=(10,10))\n",
    "   fig2.tight_layout()\n",
    "   spec2 = gridspec.GridSpec(ncols=6, nrows=4, figure=fig2) \n",
    "   f2_ax1 = fig2.add_subplot(spec2[0:1, 0:2])\n",
    "   f2_ax1.imshow(test_digits[0], cmap='gray')\n",
    "   plt.axis('off')\n",
    "   f2_ax2 = fig2.add_subplot(spec2[0:1, 3:])\n",
    "   labels = [(i+1) for i in range(num_parties)] \n",
    "   \n",
    "   x = 3\n",
    "  \n",
    "\n",
    "   rects1 = f2_ax2.bar(x, acc_list, width=1)\n",
    "   # Add some text for labels, title and custom x-axis tick labels, etc.\n",
    "   f2_ax2.set_xlabel('Party ' + str(party_id))\n",
    "   f2_ax2.set_ylabel('Average Prediction Accuracy \\n over '+str(sample_count)+' samples')\n",
    "   f2_ax2.set_title('Average Prediction Accuracy by parties for label '+str(i))\n",
    "   f2_ax2.set_xlim(0,6)\n",
    "   f2_ax2.set_ylim(0,100)\n",
    "   f2_ax2.set_xticklabels(labels)"
   ]
  },
  {
   "cell_type": "markdown",
   "metadata": {},
   "source": [
    "## Shut Down\n",
    "\n",
    "Invoke the `stop()` method on each of the network participants to terminate the service."
   ]
  },
  {
   "cell_type": "code",
   "execution_count": null,
   "metadata": {},
   "outputs": [],
   "source": [
    "party.stop()"
   ]
  }
 ],
 "metadata": {
  "kernelspec": {
   "display_name": "EXTERNAL_MAIN",
   "language": "python",
   "name": "external_main"
  },
  "language_info": {
   "codemirror_mode": {
    "name": "ipython",
    "version": 3
   },
   "file_extension": ".py",
   "mimetype": "text/x-python",
   "name": "python",
   "nbconvert_exporter": "python",
   "pygments_lexer": "ipython3",
   "version": "3.6.12"
  }
 },
 "nbformat": 4,
 "nbformat_minor": 4
}
